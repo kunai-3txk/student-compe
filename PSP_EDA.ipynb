{
  "nbformat": 4,
  "nbformat_minor": 0,
  "metadata": {
    "colab": {
      "provenance": [],
      "toc_visible": true,
      "mount_file_id": "https://github.com/kunai-3txk/student-compe/blob/main/PSP_EDA.ipynb",
      "authorship_tag": "ABX9TyNyjGd3Ilhj070Uy8Ftpz9V",
      "include_colab_link": true
    },
    "kernelspec": {
      "name": "python3",
      "display_name": "Python 3"
    },
    "language_info": {
      "name": "python"
    }
  },
  "cells": [
    {
      "cell_type": "markdown",
      "metadata": {
        "id": "view-in-github",
        "colab_type": "text"
      },
      "source": [
        "<a href=\"https://colab.research.google.com/github/kunai-3txk/student-compe/blob/main/PSP_EDA.ipynb\" target=\"_parent\"><img src=\"https://colab.research.google.com/assets/colab-badge.svg\" alt=\"Open In Colab\"/></a>"
      ]
    },
    {
      "cell_type": "markdown",
      "source": [
        "#Ref\n",
        "https://www.kaggle.com/code/kentaro7/beginner-lgbm\n",
        "\n",
        "https://www.kaggle.com/code/mohammad2012191/lgbm-early-stopping-lb-0-670"
      ],
      "metadata": {
        "id": "Vxc2e9wRnR-a"
      }
    },
    {
      "cell_type": "markdown",
      "source": [
        "# import"
      ],
      "metadata": {
        "id": "xnZJ743IdfZS"
      }
    },
    {
      "cell_type": "code",
      "source": [
        "!pip install polars\n",
        "!pip install catboost"
      ],
      "metadata": {
        "colab": {
          "base_uri": "https://localhost:8080/"
        },
        "id": "Wiyoj4t-ey_w",
        "outputId": "47825bc0-f219-4afc-c3d6-53d9e571545f"
      },
      "execution_count": 1,
      "outputs": [
        {
          "output_type": "stream",
          "name": "stdout",
          "text": [
            "Looking in indexes: https://pypi.org/simple, https://us-python.pkg.dev/colab-wheels/public/simple/\n",
            "Requirement already satisfied: polars in /usr/local/lib/python3.9/dist-packages (0.16.14)\n",
            "Requirement already satisfied: typing_extensions>=4.0.1 in /usr/local/lib/python3.9/dist-packages (from polars) (4.5.0)\n",
            "Looking in indexes: https://pypi.org/simple, https://us-python.pkg.dev/colab-wheels/public/simple/\n",
            "Requirement already satisfied: catboost in /usr/local/lib/python3.9/dist-packages (1.1.1)\n",
            "Requirement already satisfied: graphviz in /usr/local/lib/python3.9/dist-packages (from catboost) (0.10.1)\n",
            "Requirement already satisfied: plotly in /usr/local/lib/python3.9/dist-packages (from catboost) (5.5.0)\n",
            "Requirement already satisfied: six in /usr/local/lib/python3.9/dist-packages (from catboost) (1.15.0)\n",
            "Requirement already satisfied: pandas>=0.24.0 in /usr/local/lib/python3.9/dist-packages (from catboost) (1.4.4)\n",
            "Requirement already satisfied: numpy>=1.16.0 in /usr/local/lib/python3.9/dist-packages (from catboost) (1.22.4)\n",
            "Requirement already satisfied: scipy in /usr/local/lib/python3.9/dist-packages (from catboost) (1.10.1)\n",
            "Requirement already satisfied: matplotlib in /usr/local/lib/python3.9/dist-packages (from catboost) (3.7.1)\n",
            "Requirement already satisfied: python-dateutil>=2.8.1 in /usr/local/lib/python3.9/dist-packages (from pandas>=0.24.0->catboost) (2.8.2)\n",
            "Requirement already satisfied: pytz>=2020.1 in /usr/local/lib/python3.9/dist-packages (from pandas>=0.24.0->catboost) (2022.7.1)\n",
            "Requirement already satisfied: kiwisolver>=1.0.1 in /usr/local/lib/python3.9/dist-packages (from matplotlib->catboost) (1.4.4)\n",
            "Requirement already satisfied: cycler>=0.10 in /usr/local/lib/python3.9/dist-packages (from matplotlib->catboost) (0.11.0)\n",
            "Requirement already satisfied: fonttools>=4.22.0 in /usr/local/lib/python3.9/dist-packages (from matplotlib->catboost) (4.39.0)\n",
            "Requirement already satisfied: pyparsing>=2.3.1 in /usr/local/lib/python3.9/dist-packages (from matplotlib->catboost) (3.0.9)\n",
            "Requirement already satisfied: pillow>=6.2.0 in /usr/local/lib/python3.9/dist-packages (from matplotlib->catboost) (8.4.0)\n",
            "Requirement already satisfied: packaging>=20.0 in /usr/local/lib/python3.9/dist-packages (from matplotlib->catboost) (23.0)\n",
            "Requirement already satisfied: importlib-resources>=3.2.0 in /usr/local/lib/python3.9/dist-packages (from matplotlib->catboost) (5.12.0)\n",
            "Requirement already satisfied: contourpy>=1.0.1 in /usr/local/lib/python3.9/dist-packages (from matplotlib->catboost) (1.0.7)\n",
            "Requirement already satisfied: tenacity>=6.2.0 in /usr/local/lib/python3.9/dist-packages (from plotly->catboost) (8.2.2)\n",
            "Requirement already satisfied: zipp>=3.1.0 in /usr/local/lib/python3.9/dist-packages (from importlib-resources>=3.2.0->matplotlib->catboost) (3.15.0)\n"
          ]
        }
      ]
    },
    {
      "cell_type": "code",
      "execution_count": 2,
      "metadata": {
        "id": "DRcm6iVbb-ym"
      },
      "outputs": [],
      "source": [
        "import numpy as np\n",
        "import pandas as pd\n",
        "import polars as pl\n",
        "import os\n",
        "from tqdm import tqdm\n",
        "from sklearn.metrics import f1_score\n",
        "from sklearn.model_selection import GroupKFold, KFold\n",
        "from catboost import CatBoostClassifier, Pool\n",
        "import matplotlib.pyplot as plt\n",
        "import warnings\n",
        "from itertools import combinations\n",
        "import math\n",
        "warnings.filterwarnings('ignore')\n",
        "pd.set_option(\"display.max_columns\", None)\n",
        "pd.set_option(\"display.max_rows\", 200)\n",
        "\n"
      ]
    },
    {
      "cell_type": "code",
      "source": [
        "from sklearn.model_selection import KFold, GroupKFold\n",
        "from lightgbm.sklearn import LGBMRegressor\n",
        "from sklearn.metrics import f1_score"
      ],
      "metadata": {
        "id": "qCJQPbQY0Fo7"
      },
      "execution_count": 26,
      "outputs": []
    },
    {
      "cell_type": "markdown",
      "source": [
        "## Config"
      ],
      "metadata": {
        "id": "Ll0Cbi-reTZK"
      }
    },
    {
      "cell_type": "code",
      "source": [
        "class paths:\n",
        "    # kaggle環境ならTrue\n",
        "    if 'KAGGLE_URL_BASE' in set(os.environ.keys()):\n",
        "        common_path = \"/kaggle/input/amp-parkinsons-disease-progression-prediction\"\n",
        "    \n",
        "    # colaboratory環境ならTrue\n",
        "    if 'COLAB_GPU' in set(os.environ.keys()):\n",
        "        common_path = \"/content/drive/MyDrive/PSP/\"\n",
        "\n",
        "    SAMPLE_SUBMISSION = common_path + \"sample_submission.csv\"\n",
        "    TRAIN = common_path + \"train.csv\"\n",
        "    TRAIN_LABELS = common_path + \"train_labels.csv\"\n",
        "    TEST = common_path + \"test.csv\"\n",
        "    OUTPUT = common_path"
      ],
      "metadata": {
        "id": "n1BbvP7feUet"
      },
      "execution_count": 3,
      "outputs": []
    },
    {
      "cell_type": "markdown",
      "source": [
        "# defnition"
      ],
      "metadata": {
        "id": "-KlePzYlkjC1"
      }
    },
    {
      "cell_type": "code",
      "source": [
        "def reduce_mem_usage(df):\n",
        "    \"\"\" iterate through all the columns of a dataframe and modify the data type\n",
        "        to reduce memory usage.        \n",
        "    \"\"\"\n",
        "    start_mem = df.memory_usage().sum() / 1024**2\n",
        "    print('Memory usage of dataframe is {:.2f} MB'.format(start_mem))\n",
        "\n",
        "    for col in df.columns:\n",
        "        col_type = df[col].dtype\n",
        "\n",
        "        if col_type != object:\n",
        "            c_min = df[col].min()\n",
        "            c_max = df[col].max()\n",
        "            if str(col_type)[:3] == 'int':\n",
        "                if c_min > np.iinfo(np.int8).min and c_max < np.iinfo(np.int8).max:\n",
        "                    df[col] = df[col].astype(np.int8)\n",
        "                elif c_min > np.iinfo(np.int16).min and c_max < np.iinfo(np.int16).max:\n",
        "                    df[col] = df[col].astype(np.int16)\n",
        "                elif c_min > np.iinfo(np.int32).min and c_max < np.iinfo(np.int32).max:\n",
        "                    df[col] = df[col].astype(np.int32)\n",
        "                elif c_min > np.iinfo(np.int64).min and c_max < np.iinfo(np.int64).max:\n",
        "                    df[col] = df[col].astype(np.int64)  \n",
        "            else:\n",
        "                if c_min > np.finfo(np.float16).min and c_max < np.finfo(np.float16).max:\n",
        "                    df[col] = df[col].astype(np.float16)\n",
        "                elif c_min > np.finfo(np.float32).min and c_max < np.finfo(np.float32).max:\n",
        "                    df[col] = df[col].astype(np.float32)\n",
        "                else:\n",
        "                    df[col] = df[col].astype(np.float64)\n",
        "        else:\n",
        "            df[col] = df[col].astype('category')\n",
        "\n",
        "    end_mem = df.memory_usage().sum() / 1024**2\n",
        "    print('Memory usage after optimization is: {:.2f} MB'.format(end_mem))\n",
        "    print('Decreased by {:.1f}%'.format(100 * (start_mem - end_mem) / start_mem))\n",
        "\n",
        "    return df"
      ],
      "metadata": {
        "id": "CEuavv67kiPb"
      },
      "execution_count": 4,
      "outputs": []
    },
    {
      "cell_type": "markdown",
      "source": [
        "# Load Data"
      ],
      "metadata": {
        "id": "TnI6GD0CdjrB"
      }
    },
    {
      "cell_type": "code",
      "source": [
        "targets = pd.read_csv(paths.TRAIN_LABELS)\n",
        "train_ori  =  reduce_mem_usage(pd.read_csv(paths.TRAIN))\n",
        "test_ori =  pd.read_csv(paths.TEST)\n",
        "sample=sample_submission =  pd.read_csv(paths.SAMPLE_SUBMISSION)"
      ],
      "metadata": {
        "colab": {
          "base_uri": "https://localhost:8080/"
        },
        "id": "Ye4ccxIudlIq",
        "outputId": "794f2108-b773-4160-b74a-74109e109348"
      },
      "execution_count": 17,
      "outputs": [
        {
          "output_type": "stream",
          "name": "stdout",
          "text": [
            "Memory usage of dataframe is 2010.23 MB\n",
            "Memory usage after optimization is: 778.99 MB\n",
            "Decreased by 61.2%\n"
          ]
        }
      ]
    },
    {
      "cell_type": "code",
      "source": [
        "targets['session'] = targets.session_id.apply(lambda x: int(x.split('_')[0]))\n",
        "targets['q'] = targets.session_id.apply(lambda x: int(x.split('_')[-1][1:]))\n",
        "\n",
        "train = train_ori.copy()\n",
        "test = test_ori.copy()\n",
        "train.drop([\"fullscreen\",\"hq\",\"music\"],axis=1,inplace=True)"
      ],
      "metadata": {
        "id": "d0I4aV1fzGKp"
      },
      "execution_count": 19,
      "outputs": []
    },
    {
      "cell_type": "markdown",
      "source": [],
      "metadata": {
        "id": "ubaOJlXmzGEu"
      }
    },
    {
      "cell_type": "markdown",
      "source": [
        "#train"
      ],
      "metadata": {
        "id": "BaiWi3SqnEHs"
      }
    },
    {
      "cell_type": "code",
      "source": [
        "#train.describe()\n",
        "#train.info()"
      ],
      "metadata": {
        "id": "SW9_Wx5fkf0Z"
      },
      "execution_count": 6,
      "outputs": []
    },
    {
      "cell_type": "code",
      "source": [
        "from sklearn.preprocessing import LabelEncoder"
      ],
      "metadata": {
        "id": "bUpKekeFrK1F"
      },
      "execution_count": 7,
      "outputs": []
    },
    {
      "cell_type": "code",
      "source": [
        "def feature_engineer(data):\n",
        "\n",
        "  data[\"elapsed_time\"].fillna(data[\"elapsed_time\"].mean())\n",
        "  data[\"elapsed_time\"] = np.log(data[\"elapsed_time\"]).round(3)\n",
        "  data[\"elapsed_time\"] = data[\"elapsed_time\"].replace([np.inf, -np.inf], np.nan)\n",
        "  data[\"elapsed_time\"].fillna(2.25,inplace=True)\n",
        "\n",
        "  le = LabelEncoder()\n",
        "\n",
        "  data[\"event_name\"] = le.fit_transform(data[\"event_name\"])\n",
        "  data[\"name\"] = le.fit_transform(data[\"name\"])\n",
        "  data[\"page\"] = data[\"page\"].fillna(-1)\n",
        "  data[\"page\"] = data[\"page\"].astype(int)\n",
        "  data[\"room_coor_x\"].fillna(0,inplace=True)\n",
        "  data[\"room_coor_y\"].fillna(0,inplace=True)\n",
        "  data[\"screen_coor_x\"].fillna(0,inplace=True)\n",
        "  data[\"screen_coor_y\"].fillna(0,inplace=True)\n",
        "  data[\"hover_duration\"].fillna(0,inplace=True)\n",
        "\n",
        "  data.reset_index(drop=True)\n",
        "\n",
        "  KEYS = ['session_id','level_group']\n",
        "  NUMS = ['elapsed_time','room_coor_x', 'room_coor_y', 'screen_coor_x', 'screen_coor_y', 'hover_duration']\n",
        "  CATS = ['event_name','name','fqid', 'room_fqid', 'text_fqid']\n",
        "\n",
        "  data_byn = data.groupby(KEYS)[NUMS].agg([\"max\",\"min\",\"mean\",\"std\"])\n",
        "  data_byn.columns = ['_'.join(col) for col in data_byn.columns]\n",
        "  data_byn = data_byn.reset_index()\n",
        "\n",
        "  data_byc = data.groupby(KEYS)[CATS].agg('nunique')\n",
        "  data_byc = data_byc.reset_index()\n",
        "  #train_byc = train_byc.set_index(\"session_id\")\n",
        "\n",
        "  ret_data =  data_byn.merge(data_byc,on=['session_id','level_group'])\n",
        "\n",
        "  ret_data =  ret_data.reset_index(drop=True)\n",
        "  ret_data = ret_data.set_index(\"session_id\")\n",
        "\n",
        "  #print('byn shape:',data_byn.shape,'byc shape:',data_byc.shape,'ret_df shape:',ret_data.shape)\n",
        "  return ret_data"
      ],
      "metadata": {
        "id": "3stO_vx2wFe2"
      },
      "execution_count": 21,
      "outputs": []
    },
    {
      "cell_type": "code",
      "source": [
        "df_train = feature_engineer(train)\n",
        "print(df_train.shape)\n",
        "df_train.head()"
      ],
      "metadata": {
        "id": "8qkjUzwdw5Y7",
        "outputId": "2a045f0a-95c0-44fe-8dc8-c67d41283230",
        "colab": {
          "base_uri": "https://localhost:8080/"
        }
      },
      "execution_count": 24,
      "outputs": [
        {
          "output_type": "stream",
          "name": "stdout",
          "text": [
            "(35337, 30)\n"
          ]
        }
      ]
    },
    {
      "cell_type": "code",
      "source": [
        "df_test = feature_engineer(test)\n",
        "print(df_test.shape)\n",
        "df_test.head()"
      ],
      "metadata": {
        "id": "hH7D9-GDw9vp",
        "outputId": "a5961837-9459-4c2e-fc36-e66bbdadf64a",
        "colab": {
          "base_uri": "https://localhost:8080/"
        }
      },
      "execution_count": 25,
      "outputs": [
        {
          "output_type": "stream",
          "name": "stdout",
          "text": [
            "(9, 30)\n"
          ]
        }
      ]
    },
    {
      "cell_type": "code",
      "source": [
        "FEATURES = [c for c in df_train.columns if c != 'level_group_']\n",
        "print(FEATURES)\n",
        "ALL_USERS = df_train.index.unique()\n",
        "print(ALL_USERS)"
      ],
      "metadata": {
        "id": "Pvhzb0_exWoP",
        "outputId": "cd2bcb9f-29b3-4fbb-8307-6ef5c6522aa5",
        "colab": {
          "base_uri": "https://localhost:8080/"
        }
      },
      "execution_count": 12,
      "outputs": [
        {
          "output_type": "stream",
          "name": "stdout",
          "text": [
            "['index', 'level_group', ('session_id', ''), ('level_group', ''), ('elapsed_time', 'max'), ('elapsed_time', 'min'), ('elapsed_time', 'mean'), ('elapsed_time', 'std'), ('room_coor_x', 'max'), ('room_coor_x', 'min'), ('room_coor_x', 'mean'), ('room_coor_x', 'std'), ('room_coor_y', 'max'), ('room_coor_y', 'min'), ('room_coor_y', 'mean'), ('room_coor_y', 'std'), ('screen_coor_x', 'max'), ('screen_coor_x', 'min'), ('screen_coor_x', 'mean'), ('screen_coor_x', 'std'), ('screen_coor_y', 'max'), ('screen_coor_y', 'min'), ('screen_coor_y', 'mean'), ('screen_coor_y', 'std'), ('hover_duration', 'max'), ('hover_duration', 'min'), ('hover_duration', 'mean'), ('hover_duration', 'std'), 'event_name', 'name', 'fqid', 'room_fqid', 'text_fqid']\n",
            "Int64Index([20090312431273200, 20090312433251036, 20090314121766812,\n",
            "            20090314363702160, 20090314441803444, 20090315081004164,\n",
            "            20090315085850788, 20090315101457836, 20090315170769824,\n",
            "            20090317080721164,\n",
            "            ...\n",
            "            22100213081672770, 22100213133089136, 22100215032067016,\n",
            "            22100215190998610, 22100215241104530, 22100215342220508,\n",
            "            22100215460321130, 22100217104993650, 22100219442786200,\n",
            "            22100221145014656],\n",
            "           dtype='int64', name='session_id', length=11779)\n"
          ]
        }
      ]
    },
    {
      "cell_type": "markdown",
      "source": [
        "#fit"
      ],
      "metadata": {
        "id": "9v4IGcufxWeg"
      }
    },
    {
      "cell_type": "code",
      "source": [
        "N_FOLDS = 10\n",
        "\n",
        "gkf = GroupKFold(n_splits=N_FOLDS)\n",
        "oof = pd.DataFrame(data=np.zeros((len(ALL_USERS),18)), index=ALL_USERS)\n",
        "models = {}\n",
        "\n",
        "# COMPUTE CV SCORE WITH N GROUP K FOLD\n",
        "for i, (train_index, test_index) in enumerate(gkf.split(X=df_train, groups=df_train.index)):\n",
        "    print('#'*25)\n",
        "    print('### Fold',i+1)\n",
        "    print('#'*25)\n",
        "    \n",
        "    # ITERATE THRU QUESTIONS 1 THRU 18\n",
        "    for t in range(1,19):\n",
        "        \n",
        "        # USE THIS TRAIN DATA WITH THESE QUESTIONS\n",
        "        if t<=3: grp = \"0-4\"\n",
        "        elif t<=13: grp = \"5-12\"\n",
        "        elif t<=22: grp = \"13-22\"\n",
        "            \n",
        "        # TRAIN DATA\n",
        "        train_x = df_train.iloc[train_index]\n",
        "        train_x = train_x.loc[train_x[level_group] == grp]\n",
        "        train_users = train_x.index.values\n",
        "        train_y = targets.loc[targets[q]==t].set_index('session').loc[train_users]\n",
        "        \n",
        "        # VALID DATA\n",
        "        valid_x = df_train.iloc[test_index]\n",
        "        valid_x = valid_x.loc[valid_x.level_group_ == grp]\n",
        "        valid_users = valid_x.index.values\n",
        "        valid_y = targets.loc[targets.q==t].set_index('session').loc[valid_users]\n",
        "        \n",
        "        # TRAIN MODEL\n",
        "        model = LGBMRegressor(learning_rate=0.027, \\\n",
        "                    num_leaves=15, \\\n",
        "                    n_estimators=200, \\\n",
        "                    min_child_samples=20, \\\n",
        "                    boosting_type='gbdt',\n",
        "                    subsample_for_bin=1000,\n",
        "                    max_depth=-1,\n",
        "                    colsample_bytree=0.8)\n",
        "        model.fit(train_x[FEATURES].astype('float32'), train_y['correct'])\n",
        "        \n",
        "        # SAVE MODEL, PREDICT VALID OOF\n",
        "        models[f'{i}_{grp}_{t}'] = model\n",
        "        oof.loc[valid_users, t-1] = model.predict(valid_x[FEATURES])\n",
        "        \n",
        "    print()"
      ],
      "metadata": {
        "id": "eyR5wfHLxNzM",
        "outputId": "06d69770-b8d1-4427-c7f3-388a1d947118",
        "colab": {
          "base_uri": "https://localhost:8080/",
          "height": 430
        }
      },
      "execution_count": 27,
      "outputs": [
        {
          "output_type": "stream",
          "name": "stdout",
          "text": [
            "#########################\n",
            "### Fold 1\n",
            "#########################\n"
          ]
        },
        {
          "output_type": "error",
          "ename": "AttributeError",
          "evalue": "ignored",
          "traceback": [
            "\u001b[0;31m---------------------------------------------------------------------------\u001b[0m",
            "\u001b[0;31mAttributeError\u001b[0m                            Traceback (most recent call last)",
            "\u001b[0;32m<ipython-input-27-0e1e543710af>\u001b[0m in \u001b[0;36m<module>\u001b[0;34m\u001b[0m\n\u001b[1;32m     21\u001b[0m         \u001b[0;31m# TRAIN DATA\u001b[0m\u001b[0;34m\u001b[0m\u001b[0;34m\u001b[0m\u001b[0m\n\u001b[1;32m     22\u001b[0m         \u001b[0mtrain_x\u001b[0m \u001b[0;34m=\u001b[0m \u001b[0mdf_train\u001b[0m\u001b[0;34m.\u001b[0m\u001b[0miloc\u001b[0m\u001b[0;34m[\u001b[0m\u001b[0mtrain_index\u001b[0m\u001b[0;34m]\u001b[0m\u001b[0;34m\u001b[0m\u001b[0;34m\u001b[0m\u001b[0m\n\u001b[0;32m---> 23\u001b[0;31m         \u001b[0mtrain_x\u001b[0m \u001b[0;34m=\u001b[0m \u001b[0mtrain_x\u001b[0m\u001b[0;34m.\u001b[0m\u001b[0mloc\u001b[0m\u001b[0;34m[\u001b[0m\u001b[0mtrain_x\u001b[0m\u001b[0;34m.\u001b[0m\u001b[0mlevel_group_\u001b[0m \u001b[0;34m==\u001b[0m \u001b[0mgrp\u001b[0m\u001b[0;34m]\u001b[0m\u001b[0;34m\u001b[0m\u001b[0;34m\u001b[0m\u001b[0m\n\u001b[0m\u001b[1;32m     24\u001b[0m         \u001b[0mtrain_users\u001b[0m \u001b[0;34m=\u001b[0m \u001b[0mtrain_x\u001b[0m\u001b[0;34m.\u001b[0m\u001b[0mindex\u001b[0m\u001b[0;34m.\u001b[0m\u001b[0mvalues\u001b[0m\u001b[0;34m\u001b[0m\u001b[0;34m\u001b[0m\u001b[0m\n\u001b[1;32m     25\u001b[0m         \u001b[0mtrain_y\u001b[0m \u001b[0;34m=\u001b[0m \u001b[0mtargets\u001b[0m\u001b[0;34m.\u001b[0m\u001b[0mloc\u001b[0m\u001b[0;34m[\u001b[0m\u001b[0mtargets\u001b[0m\u001b[0;34m.\u001b[0m\u001b[0mq\u001b[0m\u001b[0;34m==\u001b[0m\u001b[0mt\u001b[0m\u001b[0;34m]\u001b[0m\u001b[0;34m.\u001b[0m\u001b[0mset_index\u001b[0m\u001b[0;34m(\u001b[0m\u001b[0;34m'session'\u001b[0m\u001b[0;34m)\u001b[0m\u001b[0;34m.\u001b[0m\u001b[0mloc\u001b[0m\u001b[0;34m[\u001b[0m\u001b[0mtrain_users\u001b[0m\u001b[0;34m]\u001b[0m\u001b[0;34m\u001b[0m\u001b[0;34m\u001b[0m\u001b[0m\n",
            "\u001b[0;32m/usr/local/lib/python3.9/dist-packages/pandas/core/generic.py\u001b[0m in \u001b[0;36m__getattr__\u001b[0;34m(self, name)\u001b[0m\n\u001b[1;32m   5573\u001b[0m         ):\n\u001b[1;32m   5574\u001b[0m             \u001b[0;32mreturn\u001b[0m \u001b[0mself\u001b[0m\u001b[0;34m[\u001b[0m\u001b[0mname\u001b[0m\u001b[0;34m]\u001b[0m\u001b[0;34m\u001b[0m\u001b[0;34m\u001b[0m\u001b[0m\n\u001b[0;32m-> 5575\u001b[0;31m         \u001b[0;32mreturn\u001b[0m \u001b[0mobject\u001b[0m\u001b[0;34m.\u001b[0m\u001b[0m__getattribute__\u001b[0m\u001b[0;34m(\u001b[0m\u001b[0mself\u001b[0m\u001b[0;34m,\u001b[0m \u001b[0mname\u001b[0m\u001b[0;34m)\u001b[0m\u001b[0;34m\u001b[0m\u001b[0;34m\u001b[0m\u001b[0m\n\u001b[0m\u001b[1;32m   5576\u001b[0m \u001b[0;34m\u001b[0m\u001b[0m\n\u001b[1;32m   5577\u001b[0m     \u001b[0;32mdef\u001b[0m \u001b[0m__setattr__\u001b[0m\u001b[0;34m(\u001b[0m\u001b[0mself\u001b[0m\u001b[0;34m,\u001b[0m \u001b[0mname\u001b[0m\u001b[0;34m:\u001b[0m \u001b[0mstr\u001b[0m\u001b[0;34m,\u001b[0m \u001b[0mvalue\u001b[0m\u001b[0;34m)\u001b[0m \u001b[0;34m->\u001b[0m \u001b[0;32mNone\u001b[0m\u001b[0;34m:\u001b[0m\u001b[0;34m\u001b[0m\u001b[0;34m\u001b[0m\u001b[0m\n",
            "\u001b[0;31mAttributeError\u001b[0m: 'DataFrame' object has no attribute 'level_group_'"
          ]
        }
      ]
    }
  ]
}